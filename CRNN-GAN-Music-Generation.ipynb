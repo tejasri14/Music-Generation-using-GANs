{
 "cells": [
  {
   "cell_type": "code",
   "execution_count": 1,
   "id": "1107950b",
   "metadata": {
    "scrolled": true
   },
   "outputs": [
    {
     "name": "stdout",
     "output_type": "stream",
     "text": [
      "The operation couldn’t be completed. Unable to locate a Java Runtime that supports apt.\n",
      "Please visit http://www.java.com for information on installing Java.\n",
      "\n",
      "cp: /usr/share/sounds/sf2/FluidR3_GM.sf2: No such file or directory\n",
      "Requirement already satisfied: midi2audio in /Users/tejasrikurapati/opt/anaconda3/lib/python3.9/site-packages (0.1.1)\n",
      "Requirement already satisfied: music21 in /Users/tejasrikurapati/opt/anaconda3/lib/python3.9/site-packages (8.1.0)\n",
      "Requirement already satisfied: chardet in /Users/tejasrikurapati/opt/anaconda3/lib/python3.9/site-packages (from music21) (4.0.0)\n",
      "Requirement already satisfied: joblib in /Users/tejasrikurapati/opt/anaconda3/lib/python3.9/site-packages (from music21) (1.1.0)\n",
      "Requirement already satisfied: jsonpickle in /Users/tejasrikurapati/opt/anaconda3/lib/python3.9/site-packages (from music21) (3.0.1)\n",
      "Requirement already satisfied: matplotlib in /Users/tejasrikurapati/opt/anaconda3/lib/python3.9/site-packages (from music21) (3.5.2)\n",
      "Requirement already satisfied: more-itertools in /Users/tejasrikurapati/opt/anaconda3/lib/python3.9/site-packages (from music21) (9.1.0)\n",
      "Requirement already satisfied: numpy in /Users/tejasrikurapati/opt/anaconda3/lib/python3.9/site-packages (from music21) (1.23.5)\n",
      "Requirement already satisfied: requests in /Users/tejasrikurapati/opt/anaconda3/lib/python3.9/site-packages (from music21) (2.28.1)\n",
      "Requirement already satisfied: webcolors>=1.5 in /Users/tejasrikurapati/opt/anaconda3/lib/python3.9/site-packages (from music21) (1.13)\n",
      "Requirement already satisfied: cycler>=0.10 in /Users/tejasrikurapati/opt/anaconda3/lib/python3.9/site-packages (from matplotlib->music21) (0.11.0)\n",
      "Requirement already satisfied: fonttools>=4.22.0 in /Users/tejasrikurapati/opt/anaconda3/lib/python3.9/site-packages (from matplotlib->music21) (4.25.0)\n",
      "Requirement already satisfied: kiwisolver>=1.0.1 in /Users/tejasrikurapati/opt/anaconda3/lib/python3.9/site-packages (from matplotlib->music21) (1.4.2)\n",
      "Requirement already satisfied: packaging>=20.0 in /Users/tejasrikurapati/opt/anaconda3/lib/python3.9/site-packages (from matplotlib->music21) (21.3)\n",
      "Requirement already satisfied: pillow>=6.2.0 in /Users/tejasrikurapati/opt/anaconda3/lib/python3.9/site-packages (from matplotlib->music21) (9.2.0)\n",
      "Requirement already satisfied: pyparsing>=2.2.1 in /Users/tejasrikurapati/opt/anaconda3/lib/python3.9/site-packages (from matplotlib->music21) (3.0.9)\n",
      "Requirement already satisfied: python-dateutil>=2.7 in /Users/tejasrikurapati/opt/anaconda3/lib/python3.9/site-packages (from matplotlib->music21) (2.8.2)\n",
      "Requirement already satisfied: charset-normalizer<3,>=2 in /Users/tejasrikurapati/opt/anaconda3/lib/python3.9/site-packages (from requests->music21) (2.0.4)\n",
      "Requirement already satisfied: idna<4,>=2.5 in /Users/tejasrikurapati/opt/anaconda3/lib/python3.9/site-packages (from requests->music21) (3.3)\n",
      "Requirement already satisfied: urllib3<1.27,>=1.21.1 in /Users/tejasrikurapati/opt/anaconda3/lib/python3.9/site-packages (from requests->music21) (1.26.11)\n",
      "Requirement already satisfied: certifi>=2017.4.17 in /Users/tejasrikurapati/opt/anaconda3/lib/python3.9/site-packages (from requests->music21) (2022.9.24)\n",
      "Requirement already satisfied: six>=1.5 in /Users/tejasrikurapati/opt/anaconda3/lib/python3.9/site-packages (from python-dateutil>=2.7->matplotlib->music21) (1.16.0)\n"
     ]
    }
   ],
   "source": [
    "!apt install fluidsynth\n",
    "!cp /usr/share/sounds/sf2/FluidR3_GM.sf2 ./font.sf2\n",
    "!pip install midi2audio\n",
    "!pip install music21"
   ]
  },
  {
   "cell_type": "code",
   "execution_count": 9,
   "id": "19e608e2",
   "metadata": {},
   "outputs": [
    {
     "name": "stdout",
     "output_type": "stream",
     "text": [
      "Numpy version:  1.23.5\n",
      "Tensorflow version:  2.12.0\n"
     ]
    }
   ],
   "source": [
    "import sys #to interact with the interpreter\n",
    "import os #to interact with os\n",
    "import glob #to return file paths\n",
    "import pickle \n",
    "import matplotlib.pyplot as plt\n",
    "import numpy as np \n",
    "print('Numpy version: ', np.__version__)\n",
    "\n",
    "from music21 import *\n",
    "from midi2audio import FluidSynth\n",
    "from IPython.display import Audio \n",
    "\n",
    "import tensorflow as tf\n",
    "print('Tensorflow version: ', tf.__version__)\n",
    "from tensorflow.keras.layers import Input, Dense, Reshape, Dropout, LSTM, Bidirectional \n",
    "from tensorflow.keras.layers import BatchNormalization, Activation, ZeroPadding2D\n",
    "from tensorflow.keras.layers import LeakyReLU\n",
    "from tensorflow.keras.models import Sequential, Model \n",
    "from tensorflow.keras.optimizers import Adam "
   ]
  },
  {
   "cell_type": "code",
   "execution_count": null,
   "id": "5a3d2162",
   "metadata": {},
   "outputs": [],
   "source": []
  }
 ],
 "metadata": {
  "kernelspec": {
   "display_name": "Python 3 (ipykernel)",
   "language": "python",
   "name": "python3"
  },
  "language_info": {
   "codemirror_mode": {
    "name": "ipython",
    "version": 3
   },
   "file_extension": ".py",
   "mimetype": "text/x-python",
   "name": "python",
   "nbconvert_exporter": "python",
   "pygments_lexer": "ipython3",
   "version": "3.9.13"
  }
 },
 "nbformat": 4,
 "nbformat_minor": 5
}
